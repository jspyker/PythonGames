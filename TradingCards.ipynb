{
 "cells": [
  {
   "cell_type": "code",
   "execution_count": 100,
   "id": "c46fea9d-24da-400d-9e92-b4b104db5c51",
   "metadata": {},
   "outputs": [
    {
     "name": "stdout",
     "output_type": "stream",
     "text": [
      "Starting worth\n",
      "[2000, 2000, 2000, 2000, 2000, 2000, 2000, 2000, 2000, 2000]\n"
     ]
    }
   ],
   "source": [
    "import numpy as np\n",
    "import random\n",
    "\n",
    "numPeople = 10;\n",
    "numProducts = 20;\n",
    "\n",
    "#Define the current exchange_rates\n",
    "exchange = []\n",
    "\n",
    "\n",
    "# Everything starts at an even exchange\n",
    "for i in range(numProducts):\n",
    "        exchange.append(1)\n",
    "\n",
    "#Define each person's starting wealth\n",
    "holdings = np.zeros((numPeople, numProducts));\n",
    "worth = []\n",
    "for i in range(numPeople):\n",
    "    worth.append(100 * numProducts)\n",
    "    for j in range(numProducts):\n",
    "        holdings[i,j] = 100\n",
    "\n",
    "print (\"Starting worth\")\n",
    "print (worth)\n"
   ]
  },
  {
   "cell_type": "code",
   "execution_count": 101,
   "id": "c2eff9d3-9c00-4712-bedc-396db0d81045",
   "metadata": {},
   "outputs": [
    {
     "name": "stdout",
     "output_type": "stream",
     "text": [
      "Ending worth\n",
      "[2187, 1478, 2046, 2380, 2329, 1694, 2372, 2390, 2111, 2308]\n"
     ]
    }
   ],
   "source": [
    "for rounds in range(1000000):\n",
    "    #For each round, first change the price of one item\n",
    "    i = random.randint(0, numProducts-1);\n",
    "    up = (1 == random.randint(0,1));\n",
    "    if up == True:\n",
    "          exchange[i] *= 1.10;\n",
    "    else:\n",
    "        exchange[i] *= (1/1.10);\n",
    "    if exchange[i] < 0.2:\n",
    "        exchange[i] = 1;\n",
    "    if exchange[i] > 5:\n",
    "        exchange[i] = 1;\n",
    "    exchange[i] = 0.5 + random.randint(0,10) * 0.1\n",
    "\n",
    "    #Pick two people, have them exchange a random product\n",
    "    p1 = random.randint(0, numPeople-1)\n",
    "    p2 = random.randint(0, numPeople-1)\n",
    "    if p1 != p2 :\n",
    "        prod1 = random.randint(0,numProducts-1)\n",
    "        prod2 = random.randint(0,numProducts-1)\n",
    "        if prod1 != prod2:\n",
    "            # how much does the p2 have of prod2 (in the units of p1)\n",
    "            p2_has = holdings[p2,prod2] * exchange[prod2]\n",
    "            p1_has = holdings[p1,prod1] * exchange[prod1]\n",
    "            # Each trade no more than a third of the holdings\n",
    "            trade = min(p1_has,p2_has)/3\n",
    "            trade_p1 = trade / exchange[prod1]\n",
    "            trade_p2 = trade / exchange[prod2]\n",
    "            holdings[p1, prod1] -= trade_p1\n",
    "            holdings[p1, prod2] += trade_p2\n",
    "            holdings[p2, prod1] += trade_p1\n",
    "            holdings[p2, prod2] -= trade_p2\n",
    "\n",
    "for i in range(numPeople):\n",
    "    worth_total = 0\n",
    "    for j in range(numProducts):\n",
    "        worth_total += holdings[i,j] * exchange[j]\n",
    "    worth[i] = int(worth_total)\n",
    "\n",
    "print(\"Ending worth\")\n",
    "print(worth)\n",
    "# print(exchange)\n",
    "    \n"
   ]
  },
  {
   "cell_type": "code",
   "execution_count": null,
   "id": "9e32f6aa-ec9c-4dd1-945c-54e5a7aab30f",
   "metadata": {},
   "outputs": [],
   "source": []
  },
  {
   "cell_type": "code",
   "execution_count": null,
   "id": "1becdcd6-9e99-47d0-a418-3e5d469d63fe",
   "metadata": {},
   "outputs": [],
   "source": []
  },
  {
   "cell_type": "code",
   "execution_count": null,
   "id": "8b4463d5-406b-418f-96ba-d0e2d71ceb9e",
   "metadata": {},
   "outputs": [],
   "source": []
  }
 ],
 "metadata": {
  "kernelspec": {
   "display_name": "Python 3 (ipykernel)",
   "language": "python",
   "name": "python3"
  },
  "language_info": {
   "codemirror_mode": {
    "name": "ipython",
    "version": 3
   },
   "file_extension": ".py",
   "mimetype": "text/x-python",
   "name": "python",
   "nbconvert_exporter": "python",
   "pygments_lexer": "ipython3",
   "version": "3.11.10"
  }
 },
 "nbformat": 4,
 "nbformat_minor": 5
}
